{
 "cells": [
  {
   "cell_type": "code",
   "execution_count": null,
   "metadata": {},
   "outputs": [],
   "source": [
    "# Load the Koti Janmani text file with the annotations\n",
    "path = \"data/raw/annotations_koti_janmani.txt\"\n",
    "\n",
    "TODO: Pau"
   ]
  }
 ],
 "metadata": {
  "language_info": {
   "name": "python"
  }
 },
 "nbformat": 4,
 "nbformat_minor": 2
}
