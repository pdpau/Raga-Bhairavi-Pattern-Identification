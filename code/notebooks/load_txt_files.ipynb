{
 "cells": [
  {
   "cell_type": "code",
   "execution_count": 28,
   "metadata": {},
   "outputs": [],
   "source": [
    "# IMPORTS\n",
    "import numpy as np\n",
    "import pandas as pd\n",
    "import matplotlib.pyplot as plt\n"
   ]
  },
  {
   "cell_type": "markdown",
   "metadata": {},
   "source": [
    "#### Load annotations file (Koti Janmani)"
   ]
  },
  {
   "cell_type": "code",
   "execution_count": 29,
   "metadata": {},
   "outputs": [],
   "source": [
    "# Load the Koti Janmani text file with the annotations\n",
    "path = \"../../data/raw/annotations_koti_janmani.txt\"\n",
    "\n",
    "annotations = pd.read_csv(path, sep=\"\\t\", header=None)\n",
    "annotations.columns = [\"level\", \"\", \"start\", \"end\", \"duration\", \"label\"]\n",
    "del annotations[\"\"]\n"
   ]
  },
  {
   "cell_type": "code",
   "execution_count": 30,
   "metadata": {},
   "outputs": [
    {
     "name": "stderr",
     "output_type": "stream",
     "text": [
      "C:\\Users\\pdpau\\AppData\\Local\\Temp\\ipykernel_23792\\662259459.py:5: UserWarning: Could not infer format, so each element will be parsed individually, falling back to `dateutil`. To ensure parsing is consistent and as-expected, please specify a format.\n",
      "  annotations[\"start\"] = pd.to_datetime(annotations[\"start\"])\n",
      "C:\\Users\\pdpau\\AppData\\Local\\Temp\\ipykernel_23792\\662259459.py:6: UserWarning: Could not infer format, so each element will be parsed individually, falling back to `dateutil`. To ensure parsing is consistent and as-expected, please specify a format.\n",
      "  annotations[\"end\"] = pd.to_datetime(annotations[\"end\"])\n"
     ]
    }
   ],
   "source": [
    "# Convert to seconds\n",
    "def to_seconds(t):\n",
    "    return (t.hour * 60 * 60) + (t.minute * 60) + t.second + (t.microsecond / 1000000)\n",
    "\n",
    "annotations[\"start\"] = pd.to_datetime(annotations[\"start\"])\n",
    "annotations[\"end\"] = pd.to_datetime(annotations[\"end\"])\n",
    "\n",
    "annotations[\"start\"] = annotations[\"start\"].apply(to_seconds)\n",
    "annotations[\"end\"] = annotations[\"end\"].apply(to_seconds)\n"
   ]
  },
  {
   "cell_type": "code",
   "execution_count": 33,
   "metadata": {},
   "outputs": [],
   "source": [
    "# Put into dataframes all the annotations for each level\n",
    "annotations_sancara = annotations[annotations[\"level\"]==\"sancara\"].reset_index()\n",
    "annotations_underlying_sancara = annotations[annotations[\"level\"]==\"underlying_sancara\"].reset_index()\n",
    "annotations_full_phrase = annotations[annotations[\"level\"]==\"full_phrase\"].reset_index()\n",
    "annotations_underlying_full_phrase = annotations[annotations[\"level\"]==\"underlying_full_phrase\"].reset_index()\n"
   ]
  },
  {
   "cell_type": "code",
   "execution_count": null,
   "metadata": {},
   "outputs": [],
   "source": [
    "annotations"
   ]
  },
  {
   "cell_type": "markdown",
   "metadata": {},
   "source": [
    "#### Load pitch file"
   ]
  },
  {
   "cell_type": "code",
   "execution_count": null,
   "metadata": {},
   "outputs": [],
   "source": [
    "# Load the Koti Janmani text file with the pitch annotations\n",
    "pitch_file_path = \"../../data/raw/Koti Janmani/Koti Janmani.pitch.txt\"\n",
    "\n",
    "pitch = pd.read_csv(pitch_file_path, sep=\"\\t\", header=None)\n",
    "pitch.columns = [\"time\", \"pitch\"]\n",
    "\n",
    "pitch\n",
    "\n",
    "\"\"\" time = pitch[\"time\"].values\n",
    "pitch = pitch[\"pitch\"].values\n",
    "timestamp = time[1] - time[0] \"\"\""
   ]
  },
  {
   "cell_type": "markdown",
   "metadata": {},
   "source": [
    "#### TODO: Continue"
   ]
  },
  {
   "cell_type": "code",
   "execution_count": null,
   "metadata": {},
   "outputs": [],
   "source": []
  }
 ],
 "metadata": {
  "kernelspec": {
   "display_name": "Python 3",
   "language": "python",
   "name": "python3"
  },
  "language_info": {
   "codemirror_mode": {
    "name": "ipython",
    "version": 3
   },
   "file_extension": ".py",
   "mimetype": "text/x-python",
   "name": "python",
   "nbconvert_exporter": "python",
   "pygments_lexer": "ipython3",
   "version": "3.12.2"
  }
 },
 "nbformat": 4,
 "nbformat_minor": 2
}
