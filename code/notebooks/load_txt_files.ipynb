{
 "cells": [
  {
   "cell_type": "code",
   "execution_count": 28,
   "metadata": {},
   "outputs": [],
   "source": [
    "# IMPORTS\n",
    "import numpy as np\n",
    "import pandas as pd\n",
    "import matplotlib.pyplot as plt\n"
   ]
  },
  {
   "cell_type": "markdown",
   "metadata": {},
   "source": [
    "#### Load annotations file (Koti Janmani)"
   ]
  },
  {
   "cell_type": "code",
   "execution_count": 29,
   "metadata": {},
   "outputs": [],
   "source": [
    "# Load the Koti Janmani text file with the annotations\n",
    "path = \"../../data/raw/annotations_koti_janmani.txt\"\n",
    "\n",
    "annotations = pd.read_csv(path, sep=\"\\t\", header=None)\n",
    "annotations.columns = [\"level\", \"\", \"start\", \"end\", \"duration\", \"label\"]\n",
    "del annotations[\"\"]\n"
   ]
  },
  {
   "cell_type": "code",
   "execution_count": 30,
   "metadata": {},
   "outputs": [
    {
     "name": "stderr",
     "output_type": "stream",
     "text": [
      "C:\\Users\\pdpau\\AppData\\Local\\Temp\\ipykernel_23792\\662259459.py:5: UserWarning: Could not infer format, so each element will be parsed individually, falling back to `dateutil`. To ensure parsing is consistent and as-expected, please specify a format.\n",
      "  annotations[\"start\"] = pd.to_datetime(annotations[\"start\"])\n",
      "C:\\Users\\pdpau\\AppData\\Local\\Temp\\ipykernel_23792\\662259459.py:6: UserWarning: Could not infer format, so each element will be parsed individually, falling back to `dateutil`. To ensure parsing is consistent and as-expected, please specify a format.\n",
      "  annotations[\"end\"] = pd.to_datetime(annotations[\"end\"])\n"
     ]
    }
   ],
   "source": [
    "# Convert to seconds\n",
    "def to_seconds(t):\n",
    "    return (t.hour * 60 * 60) + (t.minute * 60) + t.second + (t.microsecond / 1000000)\n",
    "\n",
    "annotations[\"start\"] = pd.to_datetime(annotations[\"start\"])\n",
    "annotations[\"end\"] = pd.to_datetime(annotations[\"end\"])\n",
    "\n",
    "annotations[\"start\"] = annotations[\"start\"].apply(to_seconds)\n",
    "annotations[\"end\"] = annotations[\"end\"].apply(to_seconds)\n"
   ]
  },
  {
   "cell_type": "code",
   "execution_count": 33,
   "metadata": {},
   "outputs": [],
   "source": [
    "# Put into dataframes all the annotations for each level\n",
    "annotations_sancara = annotations[annotations[\"level\"]==\"sancara\"].reset_index()\n",
    "annotations_underlying_sancara = annotations[annotations[\"level\"]==\"underlying_sancara\"].reset_index()\n",
    "annotations_full_phrase = annotations[annotations[\"level\"]==\"full_phrase\"].reset_index()\n",
    "annotations_underlying_full_phrase = annotations[annotations[\"level\"]==\"underlying_full_phrase\"].reset_index()\n"
   ]
  },
  {
   "cell_type": "code",
   "execution_count": null,
   "metadata": {},
   "outputs": [],
   "source": [
    "annotations"
   ]
  },
  {
   "cell_type": "markdown",
   "metadata": {},
   "source": [
    "#### Load pitch file"
   ]
  },
  {
   "cell_type": "code",
   "execution_count": 34,
   "metadata": {},
   "outputs": [
    {
     "data": {
      "text/html": [
       "<div>\n",
       "<style scoped>\n",
       "    .dataframe tbody tr th:only-of-type {\n",
       "        vertical-align: middle;\n",
       "    }\n",
       "\n",
       "    .dataframe tbody tr th {\n",
       "        vertical-align: top;\n",
       "    }\n",
       "\n",
       "    .dataframe thead th {\n",
       "        text-align: right;\n",
       "    }\n",
       "</style>\n",
       "<table border=\"1\" class=\"dataframe\">\n",
       "  <thead>\n",
       "    <tr style=\"text-align: right;\">\n",
       "      <th></th>\n",
       "      <th>time</th>\n",
       "      <th>pitch</th>\n",
       "    </tr>\n",
       "  </thead>\n",
       "  <tbody>\n",
       "    <tr>\n",
       "      <th>0</th>\n",
       "      <td>0.000000</td>\n",
       "      <td>0.0</td>\n",
       "    </tr>\n",
       "    <tr>\n",
       "      <th>1</th>\n",
       "      <td>0.004444</td>\n",
       "      <td>0.0</td>\n",
       "    </tr>\n",
       "    <tr>\n",
       "      <th>2</th>\n",
       "      <td>0.008889</td>\n",
       "      <td>0.0</td>\n",
       "    </tr>\n",
       "    <tr>\n",
       "      <th>3</th>\n",
       "      <td>0.013333</td>\n",
       "      <td>0.0</td>\n",
       "    </tr>\n",
       "    <tr>\n",
       "      <th>4</th>\n",
       "      <td>0.017778</td>\n",
       "      <td>0.0</td>\n",
       "    </tr>\n",
       "    <tr>\n",
       "      <th>...</th>\n",
       "      <td>...</td>\n",
       "      <td>...</td>\n",
       "    </tr>\n",
       "    <tr>\n",
       "      <th>118506</th>\n",
       "      <td>526.693333</td>\n",
       "      <td>0.0</td>\n",
       "    </tr>\n",
       "    <tr>\n",
       "      <th>118507</th>\n",
       "      <td>526.697778</td>\n",
       "      <td>0.0</td>\n",
       "    </tr>\n",
       "    <tr>\n",
       "      <th>118508</th>\n",
       "      <td>526.702222</td>\n",
       "      <td>0.0</td>\n",
       "    </tr>\n",
       "    <tr>\n",
       "      <th>118509</th>\n",
       "      <td>526.706667</td>\n",
       "      <td>0.0</td>\n",
       "    </tr>\n",
       "    <tr>\n",
       "      <th>118510</th>\n",
       "      <td>526.711111</td>\n",
       "      <td>0.0</td>\n",
       "    </tr>\n",
       "  </tbody>\n",
       "</table>\n",
       "<p>118511 rows × 2 columns</p>\n",
       "</div>"
      ],
      "text/plain": [
       "              time  pitch\n",
       "0         0.000000    0.0\n",
       "1         0.004444    0.0\n",
       "2         0.008889    0.0\n",
       "3         0.013333    0.0\n",
       "4         0.017778    0.0\n",
       "...            ...    ...\n",
       "118506  526.693333    0.0\n",
       "118507  526.697778    0.0\n",
       "118508  526.702222    0.0\n",
       "118509  526.706667    0.0\n",
       "118510  526.711111    0.0\n",
       "\n",
       "[118511 rows x 2 columns]"
      ]
     },
     "execution_count": 34,
     "metadata": {},
     "output_type": "execute_result"
    }
   ],
   "source": [
    "# Load the Koti Janmani text file with the pitch annotations\n",
    "pitch_file_path = \"../../data/raw/Koti Janmani/Koti Janmani.pitch.txt\"\n",
    "\n",
    "pitch = pd.read_csv(pitch_file_path, sep=\"\\t\", header=None)\n",
    "pitch.columns = [\"time\", \"pitch\"]\n",
    "\n",
    "pitch"
   ]
  },
  {
   "cell_type": "markdown",
   "metadata": {},
   "source": [
    "#### TODO: Continue"
   ]
  },
  {
   "cell_type": "code",
   "execution_count": null,
   "metadata": {},
   "outputs": [],
   "source": []
  }
 ],
 "metadata": {
  "kernelspec": {
   "display_name": "Python 3",
   "language": "python",
   "name": "python3"
  },
  "language_info": {
   "codemirror_mode": {
    "name": "ipython",
    "version": 3
   },
   "file_extension": ".py",
   "mimetype": "text/x-python",
   "name": "python",
   "nbconvert_exporter": "python",
   "pygments_lexer": "ipython3",
   "version": "3.12.2"
  }
 },
 "nbformat": 4,
 "nbformat_minor": 2
}
