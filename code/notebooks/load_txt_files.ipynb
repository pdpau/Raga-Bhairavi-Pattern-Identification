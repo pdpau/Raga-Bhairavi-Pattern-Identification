{
 "cells": [
  {
   "cell_type": "code",
   "execution_count": 1,
   "metadata": {},
   "outputs": [],
   "source": [
    "# IMPORTS\n",
    "import numpy as np\n",
    "import pandas as pd\n",
    "import matplotlib.pyplot as plt\n"
   ]
  },
  {
   "cell_type": "markdown",
   "metadata": {},
   "source": [
    "#### Load annotations file (Koti Janmani)"
   ]
  },
  {
   "cell_type": "code",
   "execution_count": 2,
   "metadata": {},
   "outputs": [],
   "source": [
    "# Load the Koti Janmani text file with the annotations\n",
    "path = \"../../data/raw/annotations_koti_janmani.txt\"\n",
    "\n",
    "annotations = pd.read_csv(path, sep=\"\\t\", header=None)\n",
    "annotations.columns = [\"level\", \"\", \"start\", \"end\", \"duration\", \"label\"]\n",
    "del annotations[\"\"]\n"
   ]
  },
  {
   "cell_type": "code",
   "execution_count": 3,
   "metadata": {},
   "outputs": [
    {
     "name": "stderr",
     "output_type": "stream",
     "text": [
      "C:\\Users\\pdpau\\AppData\\Local\\Temp\\ipykernel_18136\\1312615313.py:5: UserWarning: Could not infer format, so each element will be parsed individually, falling back to `dateutil`. To ensure parsing is consistent and as-expected, please specify a format.\n",
      "  annotations[\"start\"] = pd.to_datetime(annotations[\"start\"])\n",
      "C:\\Users\\pdpau\\AppData\\Local\\Temp\\ipykernel_18136\\1312615313.py:6: UserWarning: Could not infer format, so each element will be parsed individually, falling back to `dateutil`. To ensure parsing is consistent and as-expected, please specify a format.\n",
      "  annotations[\"end\"] = pd.to_datetime(annotations[\"end\"])\n"
     ]
    }
   ],
   "source": [
    "# Convert to seconds\n",
    "def to_seconds(t):\n",
    "    return (t.hour * 60 * 60) + (t.minute * 60) + t.second + (t.microsecond / 1000000)\n",
    "\n",
    "annotations[\"start\"] = pd.to_datetime(annotations[\"start\"])\n",
    "annotations[\"end\"] = pd.to_datetime(annotations[\"end\"])\n",
    "\n",
    "annotations[\"start\"] = annotations[\"start\"].apply(to_seconds)\n",
    "annotations[\"end\"] = annotations[\"end\"].apply(to_seconds)\n"
   ]
  },
  {
   "cell_type": "code",
   "execution_count": 4,
   "metadata": {},
   "outputs": [],
   "source": [
    "# Put into dataframes all the annotations for each level\n",
    "annotations_sancara = annotations[annotations[\"level\"]==\"sancara\"].reset_index()\n",
    "annotations_underlying_sancara = annotations[annotations[\"level\"]==\"underlying_sancara\"].reset_index()\n",
    "annotations_full_phrase = annotations[annotations[\"level\"]==\"full_phrase\"].reset_index()\n",
    "annotations_underlying_full_phrase = annotations[annotations[\"level\"]==\"underlying_full_phrase\"].reset_index()\n"
   ]
  },
  {
   "cell_type": "code",
   "execution_count": 5,
   "metadata": {},
   "outputs": [
    {
     "data": {
      "text/html": [
       "<div>\n",
       "<style scoped>\n",
       "    .dataframe tbody tr th:only-of-type {\n",
       "        vertical-align: middle;\n",
       "    }\n",
       "\n",
       "    .dataframe tbody tr th {\n",
       "        vertical-align: top;\n",
       "    }\n",
       "\n",
       "    .dataframe thead th {\n",
       "        text-align: right;\n",
       "    }\n",
       "</style>\n",
       "<table border=\"1\" class=\"dataframe\">\n",
       "  <thead>\n",
       "    <tr style=\"text-align: right;\">\n",
       "      <th></th>\n",
       "      <th>level</th>\n",
       "      <th>start</th>\n",
       "      <th>end</th>\n",
       "      <th>duration</th>\n",
       "      <th>label</th>\n",
       "    </tr>\n",
       "  </thead>\n",
       "  <tbody>\n",
       "    <tr>\n",
       "      <th>0</th>\n",
       "      <td>sancara</td>\n",
       "      <td>1.985</td>\n",
       "      <td>5.238</td>\n",
       "      <td>00:00:03.253</td>\n",
       "      <td>nnsnndm</td>\n",
       "    </tr>\n",
       "    <tr>\n",
       "      <th>1</th>\n",
       "      <td>sancara</td>\n",
       "      <td>5.238</td>\n",
       "      <td>8.300</td>\n",
       "      <td>00:00:03.062</td>\n",
       "      <td>mgmpmmgrg</td>\n",
       "    </tr>\n",
       "    <tr>\n",
       "      <th>2</th>\n",
       "      <td>sancara</td>\n",
       "      <td>12.492</td>\n",
       "      <td>17.059</td>\n",
       "      <td>00:00:04.567</td>\n",
       "      <td>gssnnndpdndm</td>\n",
       "    </tr>\n",
       "    <tr>\n",
       "      <th>3</th>\n",
       "      <td>sancara</td>\n",
       "      <td>17.059</td>\n",
       "      <td>18.776</td>\n",
       "      <td>00:00:01.717</td>\n",
       "      <td>mgmpmpgr</td>\n",
       "    </tr>\n",
       "    <tr>\n",
       "      <th>4</th>\n",
       "      <td>sancara</td>\n",
       "      <td>21.417</td>\n",
       "      <td>24.871</td>\n",
       "      <td>00:00:03.454</td>\n",
       "      <td>gmpdpdndmpgr</td>\n",
       "    </tr>\n",
       "    <tr>\n",
       "      <th>...</th>\n",
       "      <td>...</td>\n",
       "      <td>...</td>\n",
       "      <td>...</td>\n",
       "      <td>...</td>\n",
       "      <td>...</td>\n",
       "    </tr>\n",
       "    <tr>\n",
       "      <th>431</th>\n",
       "      <td>underlying_full_phrase</td>\n",
       "      <td>452.423</td>\n",
       "      <td>456.867</td>\n",
       "      <td>00:00:04.444</td>\n",
       "      <td>ssnsrsndmmgmpmggrs</td>\n",
       "    </tr>\n",
       "    <tr>\n",
       "      <th>432</th>\n",
       "      <td>underlying_full_phrase</td>\n",
       "      <td>457.812</td>\n",
       "      <td>462.967</td>\n",
       "      <td>00:00:05.155</td>\n",
       "      <td>grsssnrsnndmgmn</td>\n",
       "    </tr>\n",
       "    <tr>\n",
       "      <th>433</th>\n",
       "      <td>underlying_full_phrase</td>\n",
       "      <td>463.194</td>\n",
       "      <td>467.639</td>\n",
       "      <td>00:00:04.445</td>\n",
       "      <td>ssnsrsndmmgmpmggrs</td>\n",
       "    </tr>\n",
       "    <tr>\n",
       "      <th>434</th>\n",
       "      <td>underlying_full_phrase</td>\n",
       "      <td>473.418</td>\n",
       "      <td>479.629</td>\n",
       "      <td>00:00:06.211</td>\n",
       "      <td>nrsnsndmgmpmgrgmgmn</td>\n",
       "    </tr>\n",
       "    <tr>\n",
       "      <th>435</th>\n",
       "      <td>underlying_full_phrase</td>\n",
       "      <td>479.722</td>\n",
       "      <td>484.081</td>\n",
       "      <td>00:00:04.359</td>\n",
       "      <td>nrsssndmmmgmpgpmgrs</td>\n",
       "    </tr>\n",
       "  </tbody>\n",
       "</table>\n",
       "<p>436 rows × 5 columns</p>\n",
       "</div>"
      ],
      "text/plain": [
       "                      level    start      end      duration  \\\n",
       "0                   sancara    1.985    5.238  00:00:03.253   \n",
       "1                   sancara    5.238    8.300  00:00:03.062   \n",
       "2                   sancara   12.492   17.059  00:00:04.567   \n",
       "3                   sancara   17.059   18.776  00:00:01.717   \n",
       "4                   sancara   21.417   24.871  00:00:03.454   \n",
       "..                      ...      ...      ...           ...   \n",
       "431  underlying_full_phrase  452.423  456.867  00:00:04.444   \n",
       "432  underlying_full_phrase  457.812  462.967  00:00:05.155   \n",
       "433  underlying_full_phrase  463.194  467.639  00:00:04.445   \n",
       "434  underlying_full_phrase  473.418  479.629  00:00:06.211   \n",
       "435  underlying_full_phrase  479.722  484.081  00:00:04.359   \n",
       "\n",
       "                   label  \n",
       "0                nnsnndm  \n",
       "1              mgmpmmgrg  \n",
       "2           gssnnndpdndm  \n",
       "3               mgmpmpgr  \n",
       "4           gmpdpdndmpgr  \n",
       "..                   ...  \n",
       "431   ssnsrsndmmgmpmggrs  \n",
       "432      grsssnrsnndmgmn  \n",
       "433   ssnsrsndmmgmpmggrs  \n",
       "434  nrsnsndmgmpmgrgmgmn  \n",
       "435  nrsssndmmmgmpgpmgrs  \n",
       "\n",
       "[436 rows x 5 columns]"
      ]
     },
     "execution_count": 5,
     "metadata": {},
     "output_type": "execute_result"
    }
   ],
   "source": [
    "annotations"
   ]
  },
  {
   "cell_type": "markdown",
   "metadata": {},
   "source": [
    "#### Load pitch file"
   ]
  },
  {
   "cell_type": "code",
   "execution_count": null,
   "metadata": {},
   "outputs": [],
   "source": [
    "# Load the Koti Janmani text file with the pitch annotations\n",
    "pitch_file_path = \"../../data/raw/Koti Janmani/Koti Janmani.pitch.txt\"\n",
    "\n",
    "pitch = pd.read_csv(pitch_file_path, sep=\"\\t\", header=None)\n",
    "pitch.columns = [\"time\", \"pitch\"]\n",
    "\n",
    "pitch\n",
    "\n",
    "\"\"\" time = pitch[\"time\"].values\n",
    "pitch = pitch[\"pitch\"].values\n",
    "timestamp = time[1] - time[0] \"\"\""
   ]
  },
  {
   "cell_type": "markdown",
   "metadata": {},
   "source": [
    "#### TODO: Continue"
   ]
  },
  {
   "cell_type": "code",
   "execution_count": null,
   "metadata": {},
   "outputs": [],
   "source": []
  }
 ],
 "metadata": {
  "kernelspec": {
   "display_name": "Python 3",
   "language": "python",
   "name": "python3"
  },
  "language_info": {
   "codemirror_mode": {
    "name": "ipython",
    "version": 3
   },
   "file_extension": ".py",
   "mimetype": "text/x-python",
   "name": "python",
   "nbconvert_exporter": "python",
   "pygments_lexer": "ipython3",
   "version": "3.12.2"
  }
 },
 "nbformat": 4,
 "nbformat_minor": 2
}
