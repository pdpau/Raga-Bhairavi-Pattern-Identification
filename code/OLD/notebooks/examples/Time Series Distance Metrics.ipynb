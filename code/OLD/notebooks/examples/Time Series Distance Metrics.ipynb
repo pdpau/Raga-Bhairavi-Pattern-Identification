{
 "cells": [
  {
   "cell_type": "markdown",
   "id": "a3cd320f",
   "metadata": {},
   "source": [
    "# Time Series Distance Measures"
   ]
  },
  {
   "cell_type": "code",
   "execution_count": 113,
   "id": "c156f999",
   "metadata": {},
   "outputs": [],
   "source": [
    "!git clone https://github.com/TDAmeritrade/stumpy.git\n",
    "!git clone https://github.com/spatialaudio/python-sounddevice.git\n",
    "!git clone https://github.com/PortAudio/portaudio.git\n",
    "!git clone https://github.com/MTG/essentia.git\n",
    "!git clone https://github.com/librosa/librosa\n",
    "\n",
    "!pip install essentia\n",
    "!pip install librosa\n",
    "!pip install portaudio\n",
    "!pip install sounddevice\n",
    "!pip install fastdtw\n",
    "\n",
    "import datetime\n",
    "import matplotlib.pyplot as plt\n",
    "import time as timepackage\n",
    "import librosa\n",
    "import numpy as np\n",
    "import pandas as pd\n",
    "import scipy\n",
    "import stumpy\n",
    "from scipy.spatial import distance\n",
    "from scipy.interpolate import interp1d\n",
    "#!pip install libportaudio2\n",
    "import sounddevice as sd\n",
    "from fastdtw import fastdtw"
   ]
  },
  {
   "cell_type": "markdown",
   "id": "6e2fbc18",
   "metadata": {},
   "source": [
    "## 1. Load Data"
   ]
  },
  {
   "cell_type": "markdown",
   "id": "2502d74d",
   "metadata": {},
   "source": [
    "Load annotations, pitch time series, and audio"
   ]
  },
  {
   "cell_type": "markdown",
   "id": "6655b901",
   "metadata": {},
   "source": [
    "#### Loud Annotations"
   ]
  },
  {
   "cell_type": "code",
   "execution_count": 2,
   "id": "9d5545d6",
   "metadata": {},
   "outputs": [],
   "source": [
    "annotations_path = 'koti_janmani_annotations.txt'"
   ]
  },
  {
   "cell_type": "code",
   "execution_count": 3,
   "id": "11c53ed7",
   "metadata": {},
   "outputs": [],
   "source": [
    "annotations = pd.read_csv(annotations_path, sep='\\t', header=None)\n",
    "annotations.columns = ['level','','start','end','duration','label']"
   ]
  },
  {
   "cell_type": "code",
   "execution_count": 4,
   "id": "1f0e7afc",
   "metadata": {},
   "outputs": [],
   "source": [
    "# redundant column\n",
    "del annotations['']"
   ]
  },
  {
   "cell_type": "code",
   "execution_count": 5,
   "id": "532e5460",
   "metadata": {
    "scrolled": true
   },
   "outputs": [
    {
     "data": {
      "text/html": [
       "<div>\n",
       "<style scoped>\n",
       "    .dataframe tbody tr th:only-of-type {\n",
       "        vertical-align: middle;\n",
       "    }\n",
       "\n",
       "    .dataframe tbody tr th {\n",
       "        vertical-align: top;\n",
       "    }\n",
       "\n",
       "    .dataframe thead th {\n",
       "        text-align: right;\n",
       "    }\n",
       "</style>\n",
       "<table border=\"1\" class=\"dataframe\">\n",
       "  <thead>\n",
       "    <tr style=\"text-align: right;\">\n",
       "      <th></th>\n",
       "      <th>level</th>\n",
       "      <th>start</th>\n",
       "      <th>end</th>\n",
       "      <th>duration</th>\n",
       "      <th>label</th>\n",
       "    </tr>\n",
       "  </thead>\n",
       "  <tbody>\n",
       "    <tr>\n",
       "      <th>0</th>\n",
       "      <td>sancara</td>\n",
       "      <td>00:00:01.985</td>\n",
       "      <td>00:00:05.238</td>\n",
       "      <td>00:00:03.253</td>\n",
       "      <td>nnsnndm</td>\n",
       "    </tr>\n",
       "    <tr>\n",
       "      <th>1</th>\n",
       "      <td>sancara</td>\n",
       "      <td>00:00:05.238</td>\n",
       "      <td>00:00:08.300</td>\n",
       "      <td>00:00:03.062</td>\n",
       "      <td>mgmpmmgrg</td>\n",
       "    </tr>\n",
       "    <tr>\n",
       "      <th>2</th>\n",
       "      <td>sancara</td>\n",
       "      <td>00:00:12.492</td>\n",
       "      <td>00:00:17.059</td>\n",
       "      <td>00:00:04.567</td>\n",
       "      <td>gssnnndpdndm</td>\n",
       "    </tr>\n",
       "    <tr>\n",
       "      <th>3</th>\n",
       "      <td>sancara</td>\n",
       "      <td>00:00:17.059</td>\n",
       "      <td>00:00:18.776</td>\n",
       "      <td>00:00:01.717</td>\n",
       "      <td>mgmpmpgr</td>\n",
       "    </tr>\n",
       "    <tr>\n",
       "      <th>4</th>\n",
       "      <td>sancara</td>\n",
       "      <td>00:00:21.417</td>\n",
       "      <td>00:00:24.871</td>\n",
       "      <td>00:00:03.454</td>\n",
       "      <td>gmpdpdndmpgr</td>\n",
       "    </tr>\n",
       "    <tr>\n",
       "      <th>...</th>\n",
       "      <td>...</td>\n",
       "      <td>...</td>\n",
       "      <td>...</td>\n",
       "      <td>...</td>\n",
       "      <td>...</td>\n",
       "    </tr>\n",
       "    <tr>\n",
       "      <th>431</th>\n",
       "      <td>underlying_full_phrase</td>\n",
       "      <td>00:07:32.423</td>\n",
       "      <td>00:07:36.867</td>\n",
       "      <td>00:00:04.444</td>\n",
       "      <td>ssnsrsndmmgmpmggrs</td>\n",
       "    </tr>\n",
       "    <tr>\n",
       "      <th>432</th>\n",
       "      <td>underlying_full_phrase</td>\n",
       "      <td>00:07:37.812</td>\n",
       "      <td>00:07:42.967</td>\n",
       "      <td>00:00:05.155</td>\n",
       "      <td>grsssnrsnndmgmn</td>\n",
       "    </tr>\n",
       "    <tr>\n",
       "      <th>433</th>\n",
       "      <td>underlying_full_phrase</td>\n",
       "      <td>00:07:43.194</td>\n",
       "      <td>00:07:47.639</td>\n",
       "      <td>00:00:04.445</td>\n",
       "      <td>ssnsrsndmmgmpmggrs</td>\n",
       "    </tr>\n",
       "    <tr>\n",
       "      <th>434</th>\n",
       "      <td>underlying_full_phrase</td>\n",
       "      <td>00:07:53.418</td>\n",
       "      <td>00:07:59.629</td>\n",
       "      <td>00:00:06.211</td>\n",
       "      <td>nrsnsndmgmpmgrgmgmn</td>\n",
       "    </tr>\n",
       "    <tr>\n",
       "      <th>435</th>\n",
       "      <td>underlying_full_phrase</td>\n",
       "      <td>00:07:59.722</td>\n",
       "      <td>00:08:04.081</td>\n",
       "      <td>00:00:04.359</td>\n",
       "      <td>nrsssndmmmgmpgpmgrs</td>\n",
       "    </tr>\n",
       "  </tbody>\n",
       "</table>\n",
       "<p>436 rows × 5 columns</p>\n",
       "</div>"
      ],
      "text/plain": [
       "                      level         start           end      duration  \\\n",
       "0                   sancara  00:00:01.985  00:00:05.238  00:00:03.253   \n",
       "1                   sancara  00:00:05.238  00:00:08.300  00:00:03.062   \n",
       "2                   sancara  00:00:12.492  00:00:17.059  00:00:04.567   \n",
       "3                   sancara  00:00:17.059  00:00:18.776  00:00:01.717   \n",
       "4                   sancara  00:00:21.417  00:00:24.871  00:00:03.454   \n",
       "..                      ...           ...           ...           ...   \n",
       "431  underlying_full_phrase  00:07:32.423  00:07:36.867  00:00:04.444   \n",
       "432  underlying_full_phrase  00:07:37.812  00:07:42.967  00:00:05.155   \n",
       "433  underlying_full_phrase  00:07:43.194  00:07:47.639  00:00:04.445   \n",
       "434  underlying_full_phrase  00:07:53.418  00:07:59.629  00:00:06.211   \n",
       "435  underlying_full_phrase  00:07:59.722  00:08:04.081  00:00:04.359   \n",
       "\n",
       "                   label  \n",
       "0                nnsnndm  \n",
       "1              mgmpmmgrg  \n",
       "2           gssnnndpdndm  \n",
       "3               mgmpmpgr  \n",
       "4           gmpdpdndmpgr  \n",
       "..                   ...  \n",
       "431   ssnsrsndmmgmpmggrs  \n",
       "432      grsssnrsnndmgmn  \n",
       "433   ssnsrsndmmgmpmggrs  \n",
       "434  nrsnsndmgmpmgrgmgmn  \n",
       "435  nrsssndmmmgmpgpmgrs  \n",
       "\n",
       "[436 rows x 5 columns]"
      ]
     },
     "execution_count": 5,
     "metadata": {},
     "output_type": "execute_result"
    }
   ],
   "source": [
    "annotations"
   ]
  },
  {
   "cell_type": "markdown",
   "id": "ca1fb69f",
   "metadata": {},
   "source": [
    "Isolate level of interest. Some annotations overlap, those with 'underlying' in level refer to less granular annotations"
   ]
  },
  {
   "cell_type": "code",
   "execution_count": 6,
   "id": "346d9be1",
   "metadata": {},
   "outputs": [],
   "source": [
    "annotations = annotations[annotations['level']=='underlying_sancara'].reset_index()"
   ]
  },
  {
   "cell_type": "markdown",
   "id": "f4d7ba69",
   "metadata": {},
   "source": [
    "Start and end times are in HH:MM:SS:ms format. Convert to seconds."
   ]
  },
  {
   "cell_type": "code",
   "execution_count": 7,
   "id": "fa011b1e",
   "metadata": {},
   "outputs": [],
   "source": [
    "annotations['start'] = pd.to_datetime(annotations['start'])\n",
    "annotations['end'] = pd.to_datetime(annotations['end'])"
   ]
  },
  {
   "cell_type": "code",
   "execution_count": 8,
   "id": "4db1fc7d",
   "metadata": {},
   "outputs": [],
   "source": [
    "def convert_dt(dt):\n",
    "    return (dt.hour * 60 * 60) + (dt.minute * 60) + (dt.second) + (dt.microsecond * 0.000001)"
   ]
  },
  {
   "cell_type": "code",
   "execution_count": 9,
   "id": "8fbcc18d",
   "metadata": {},
   "outputs": [],
   "source": [
    "annotations['start'] = annotations['start'].apply(convert_dt)\n",
    "annotations['end'] = annotations['end'].apply(convert_dt)"
   ]
  },
  {
   "cell_type": "code",
   "execution_count": 10,
   "id": "b0b28a6c",
   "metadata": {},
   "outputs": [
    {
     "data": {
      "text/html": [
       "<div>\n",
       "<style scoped>\n",
       "    .dataframe tbody tr th:only-of-type {\n",
       "        vertical-align: middle;\n",
       "    }\n",
       "\n",
       "    .dataframe tbody tr th {\n",
       "        vertical-align: top;\n",
       "    }\n",
       "\n",
       "    .dataframe thead th {\n",
       "        text-align: right;\n",
       "    }\n",
       "</style>\n",
       "<table border=\"1\" class=\"dataframe\">\n",
       "  <thead>\n",
       "    <tr style=\"text-align: right;\">\n",
       "      <th></th>\n",
       "      <th>index</th>\n",
       "      <th>level</th>\n",
       "      <th>start</th>\n",
       "      <th>end</th>\n",
       "      <th>duration</th>\n",
       "      <th>label</th>\n",
       "    </tr>\n",
       "  </thead>\n",
       "  <tbody>\n",
       "    <tr>\n",
       "      <th>0</th>\n",
       "      <td>164</td>\n",
       "      <td>underlying_sancara</td>\n",
       "      <td>5.238</td>\n",
       "      <td>8.300</td>\n",
       "      <td>00:00:03.062</td>\n",
       "      <td>mgmpmmgrg</td>\n",
       "    </tr>\n",
       "    <tr>\n",
       "      <th>1</th>\n",
       "      <td>165</td>\n",
       "      <td>underlying_sancara</td>\n",
       "      <td>69.100</td>\n",
       "      <td>72.285</td>\n",
       "      <td>00:00:03.185</td>\n",
       "      <td>mmgmpgpmgrs</td>\n",
       "    </tr>\n",
       "    <tr>\n",
       "      <th>2</th>\n",
       "      <td>166</td>\n",
       "      <td>underlying_sancara</td>\n",
       "      <td>72.506</td>\n",
       "      <td>75.230</td>\n",
       "      <td>00:00:02.724</td>\n",
       "      <td>sssnnpn</td>\n",
       "    </tr>\n",
       "    <tr>\n",
       "      <th>3</th>\n",
       "      <td>167</td>\n",
       "      <td>underlying_sancara</td>\n",
       "      <td>75.428</td>\n",
       "      <td>78.776</td>\n",
       "      <td>00:00:03.348</td>\n",
       "      <td>smmggmggrs</td>\n",
       "    </tr>\n",
       "    <tr>\n",
       "      <th>4</th>\n",
       "      <td>168</td>\n",
       "      <td>underlying_sancara</td>\n",
       "      <td>80.928</td>\n",
       "      <td>84.014</td>\n",
       "      <td>00:00:03.086</td>\n",
       "      <td>mmgmpgpmgrs</td>\n",
       "    </tr>\n",
       "    <tr>\n",
       "      <th>...</th>\n",
       "      <td>...</td>\n",
       "      <td>...</td>\n",
       "      <td>...</td>\n",
       "      <td>...</td>\n",
       "      <td>...</td>\n",
       "      <td>...</td>\n",
       "    </tr>\n",
       "    <tr>\n",
       "      <th>133</th>\n",
       "      <td>297</td>\n",
       "      <td>underlying_sancara</td>\n",
       "      <td>478.819</td>\n",
       "      <td>479.614</td>\n",
       "      <td>00:00:00.795</td>\n",
       "      <td>gmn</td>\n",
       "    </tr>\n",
       "    <tr>\n",
       "      <th>134</th>\n",
       "      <td>298</td>\n",
       "      <td>underlying_sancara</td>\n",
       "      <td>479.714</td>\n",
       "      <td>481.314</td>\n",
       "      <td>00:00:01.600</td>\n",
       "      <td>nrsssndm</td>\n",
       "    </tr>\n",
       "    <tr>\n",
       "      <th>135</th>\n",
       "      <td>299</td>\n",
       "      <td>underlying_sancara</td>\n",
       "      <td>481.314</td>\n",
       "      <td>484.072</td>\n",
       "      <td>00:00:02.758</td>\n",
       "      <td>mmgmpgpmgrs</td>\n",
       "    </tr>\n",
       "    <tr>\n",
       "      <th>136</th>\n",
       "      <td>300</td>\n",
       "      <td>underlying_sancara</td>\n",
       "      <td>484.072</td>\n",
       "      <td>486.985</td>\n",
       "      <td>00:00:02.913</td>\n",
       "      <td>sssnnpn</td>\n",
       "    </tr>\n",
       "    <tr>\n",
       "      <th>137</th>\n",
       "      <td>301</td>\n",
       "      <td>underlying_sancara</td>\n",
       "      <td>508.400</td>\n",
       "      <td>512.228</td>\n",
       "      <td>00:00:03.828</td>\n",
       "      <td>smmggmggrs</td>\n",
       "    </tr>\n",
       "  </tbody>\n",
       "</table>\n",
       "<p>138 rows × 6 columns</p>\n",
       "</div>"
      ],
      "text/plain": [
       "     index               level    start      end      duration        label\n",
       "0      164  underlying_sancara    5.238    8.300  00:00:03.062    mgmpmmgrg\n",
       "1      165  underlying_sancara   69.100   72.285  00:00:03.185  mmgmpgpmgrs\n",
       "2      166  underlying_sancara   72.506   75.230  00:00:02.724      sssnnpn\n",
       "3      167  underlying_sancara   75.428   78.776  00:00:03.348   smmggmggrs\n",
       "4      168  underlying_sancara   80.928   84.014  00:00:03.086  mmgmpgpmgrs\n",
       "..     ...                 ...      ...      ...           ...          ...\n",
       "133    297  underlying_sancara  478.819  479.614  00:00:00.795          gmn\n",
       "134    298  underlying_sancara  479.714  481.314  00:00:01.600     nrsssndm\n",
       "135    299  underlying_sancara  481.314  484.072  00:00:02.758  mmgmpgpmgrs\n",
       "136    300  underlying_sancara  484.072  486.985  00:00:02.913      sssnnpn\n",
       "137    301  underlying_sancara  508.400  512.228  00:00:03.828   smmggmggrs\n",
       "\n",
       "[138 rows x 6 columns]"
      ]
     },
     "execution_count": 10,
     "metadata": {},
     "output_type": "execute_result"
    }
   ],
   "source": [
    "annotations"
   ]
  },
  {
   "cell_type": "markdown",
   "id": "3dc46f24",
   "metadata": {},
   "source": [
    "#### Load Pitch Time Series"
   ]
  },
  {
   "cell_type": "code",
   "execution_count": 11,
   "id": "3225e638",
   "metadata": {},
   "outputs": [],
   "source": [
    "pitch_path = 'koti_janmani_pitch.txt'"
   ]
  },
  {
   "cell_type": "code",
   "execution_count": 12,
   "id": "117c936e",
   "metadata": {},
   "outputs": [],
   "source": [
    "pitch_track = pd.read_csv(pitch_path, header=None, sep='\\t')\n",
    "pitch_track.columns = ['time', 'pitch']"
   ]
  },
  {
   "cell_type": "code",
   "execution_count": 13,
   "id": "0cdfa05b",
   "metadata": {},
   "outputs": [
    {
     "data": {
      "text/html": [
       "<div>\n",
       "<style scoped>\n",
       "    .dataframe tbody tr th:only-of-type {\n",
       "        vertical-align: middle;\n",
       "    }\n",
       "\n",
       "    .dataframe tbody tr th {\n",
       "        vertical-align: top;\n",
       "    }\n",
       "\n",
       "    .dataframe thead th {\n",
       "        text-align: right;\n",
       "    }\n",
       "</style>\n",
       "<table border=\"1\" class=\"dataframe\">\n",
       "  <thead>\n",
       "    <tr style=\"text-align: right;\">\n",
       "      <th></th>\n",
       "      <th>time</th>\n",
       "      <th>pitch</th>\n",
       "    </tr>\n",
       "  </thead>\n",
       "  <tbody>\n",
       "    <tr>\n",
       "      <th>0</th>\n",
       "      <td>0.000000</td>\n",
       "      <td>0.0</td>\n",
       "    </tr>\n",
       "    <tr>\n",
       "      <th>1</th>\n",
       "      <td>0.004444</td>\n",
       "      <td>0.0</td>\n",
       "    </tr>\n",
       "    <tr>\n",
       "      <th>2</th>\n",
       "      <td>0.008889</td>\n",
       "      <td>0.0</td>\n",
       "    </tr>\n",
       "    <tr>\n",
       "      <th>3</th>\n",
       "      <td>0.013333</td>\n",
       "      <td>0.0</td>\n",
       "    </tr>\n",
       "    <tr>\n",
       "      <th>4</th>\n",
       "      <td>0.017778</td>\n",
       "      <td>0.0</td>\n",
       "    </tr>\n",
       "    <tr>\n",
       "      <th>...</th>\n",
       "      <td>...</td>\n",
       "      <td>...</td>\n",
       "    </tr>\n",
       "    <tr>\n",
       "      <th>118506</th>\n",
       "      <td>526.693333</td>\n",
       "      <td>0.0</td>\n",
       "    </tr>\n",
       "    <tr>\n",
       "      <th>118507</th>\n",
       "      <td>526.697778</td>\n",
       "      <td>0.0</td>\n",
       "    </tr>\n",
       "    <tr>\n",
       "      <th>118508</th>\n",
       "      <td>526.702222</td>\n",
       "      <td>0.0</td>\n",
       "    </tr>\n",
       "    <tr>\n",
       "      <th>118509</th>\n",
       "      <td>526.706667</td>\n",
       "      <td>0.0</td>\n",
       "    </tr>\n",
       "    <tr>\n",
       "      <th>118510</th>\n",
       "      <td>526.711111</td>\n",
       "      <td>0.0</td>\n",
       "    </tr>\n",
       "  </tbody>\n",
       "</table>\n",
       "<p>118511 rows × 2 columns</p>\n",
       "</div>"
      ],
      "text/plain": [
       "              time  pitch\n",
       "0         0.000000    0.0\n",
       "1         0.004444    0.0\n",
       "2         0.008889    0.0\n",
       "3         0.013333    0.0\n",
       "4         0.017778    0.0\n",
       "...            ...    ...\n",
       "118506  526.693333    0.0\n",
       "118507  526.697778    0.0\n",
       "118508  526.702222    0.0\n",
       "118509  526.706667    0.0\n",
       "118510  526.711111    0.0\n",
       "\n",
       "[118511 rows x 2 columns]"
      ]
     },
     "execution_count": 13,
     "metadata": {},
     "output_type": "execute_result"
    }
   ],
   "source": [
    "pitch_track"
   ]
  },
  {
   "cell_type": "markdown",
   "id": "37842033",
   "metadata": {},
   "source": [
    "Isolate pitch and time arrays. Infer timestep from time track"
   ]
  },
  {
   "cell_type": "code",
   "execution_count": 14,
   "id": "ded396b1",
   "metadata": {},
   "outputs": [],
   "source": [
    "time = pitch_track['time'].values\n",
    "pitch = pitch_track['pitch'].values\n",
    "timestep = time[1]-time[0]"
   ]
  },
  {
   "cell_type": "code",
   "execution_count": null,
   "id": "a51c1d3c",
   "metadata": {},
   "outputs": [],
   "source": [
    "timestep"
   ]
  },
  {
   "cell_type": "markdown",
   "id": "4b1c85c0",
   "metadata": {},
   "source": [
    "#### Load audio"
   ]
  },
  {
   "cell_type": "code",
   "execution_count": 15,
   "id": "f8301ae9",
   "metadata": {},
   "outputs": [],
   "source": [
    "pitch_path = 'koti_janmani_audio.mp3'\n",
    "sr = 44100\n",
    "y, _ = librosa.load(pitch_path, sr=sr)"
   ]
  },
  {
   "cell_type": "code",
   "execution_count": 16,
   "id": "c6cce729",
   "metadata": {},
   "outputs": [
    {
     "data": {
      "text/plain": [
       "array([ 0.000000e+00,  0.000000e+00,  0.000000e+00, ..., -4.512861e-04,\n",
       "       -9.446638e-05,  6.142099e-04], dtype=float32)"
      ]
     },
     "execution_count": 16,
     "metadata": {},
     "output_type": "execute_result"
    }
   ],
   "source": [
    "y"
   ]
  },
  {
   "cell_type": "markdown",
   "id": "99183fbd",
   "metadata": {},
   "source": [
    "## 2. Get Observation"
   ]
  },
  {
   "cell_type": "markdown",
   "id": "6ca683a9",
   "metadata": {},
   "source": [
    "Take one example from the annotations and get the start time, end time, and pattern label"
   ]
  },
  {
   "cell_type": "code",
   "execution_count": 110,
   "id": "395a0de7",
   "metadata": {},
   "outputs": [],
   "source": [
    "i = 0\n",
    "row = annotations.iloc[i]"
   ]
  },
  {
   "cell_type": "code",
   "execution_count": 111,
   "id": "66becc17",
   "metadata": {},
   "outputs": [
    {
     "data": {
      "text/plain": [
       "index                      164\n",
       "level       underlying_sancara\n",
       "start                    5.238\n",
       "end                        8.3\n",
       "duration          00:00:03.062\n",
       "label                mgmpmmgrg\n",
       "Name: 0, dtype: object"
      ]
     },
     "execution_count": 111,
     "metadata": {},
     "output_type": "execute_result"
    }
   ],
   "source": [
    "s1 = row.start\n",
    "s2 = row.end\n",
    "label = row.label\n",
    "row"
   ]
  },
  {
   "cell_type": "markdown",
   "id": "ea8ac598",
   "metadata": {},
   "source": [
    "#### Chop Times Series"
   ]
  },
  {
   "cell_type": "markdown",
   "id": "e17d2fa6",
   "metadata": {},
   "source": [
    "Chop original pitch and time time series to get the region that corresponds to observation"
   ]
  },
  {
   "cell_type": "code",
   "execution_count": 19,
   "id": "5a3ff7eb",
   "metadata": {},
   "outputs": [],
   "source": [
    "s1_ix = round(s1/timestep) # NUMBER OF ELEMENTS of pitch_track in s1 seconds (5.238)\n",
    "s2_ix = round(s2/timestep)\n",
    "\n",
    "s1_sr = round(s1*sr)\n",
    "s2_sr = round(s2*sr)"
   ]
  },
  {
   "cell_type": "code",
   "execution_count": 20,
   "id": "d6d12126",
   "metadata": {},
   "outputs": [],
   "source": [
    "pitch_samp = pitch[s1_ix:s2_ix] # SEGMENT of our pitch_track for row 1\n",
    "time_samp = time[s1_ix:s2_ix]\n",
    "audio_samp = y[s1_sr:s2_sr]"
   ]
  },
  {
   "cell_type": "code",
   "execution_count": 1,
   "id": "4909c662",
   "metadata": {},
   "outputs": [
    {
     "ename": "NameError",
     "evalue": "name 'pitch_samp' is not defined",
     "output_type": "error",
     "traceback": [
      "\u001b[1;31m---------------------------------------------------------------------------\u001b[0m",
      "\u001b[1;31mNameError\u001b[0m                                 Traceback (most recent call last)",
      "Input \u001b[1;32mIn [1]\u001b[0m, in \u001b[0;36m<cell line: 1>\u001b[1;34m()\u001b[0m\n\u001b[1;32m----> 1\u001b[0m \u001b[38;5;28mlen\u001b[39m(\u001b[43mpitch_samp\u001b[49m)\u001b[38;5;241m*\u001b[39mtimestep\n",
      "\u001b[1;31mNameError\u001b[0m: name 'pitch_samp' is not defined"
     ]
    }
   ],
   "source": [
    "len(pitch_samp)*timestep"
   ]
  },
  {
   "cell_type": "markdown",
   "id": "d8e28013",
   "metadata": {},
   "source": [
    "Wrap previous code in a function"
   ]
  },
  {
   "cell_type": "code",
   "execution_count": 21,
   "id": "ba1ef391",
   "metadata": {},
   "outputs": [],
   "source": [
    "def get_obs(i, pitch, time, annotations, timestep):\n",
    "    row = annotations.iloc[i]\n",
    "    s1 = row.start\n",
    "    s2 = row.end\n",
    "    label = row.label\n",
    "    \n",
    "    s1_ix = round(s1/timestep)\n",
    "    s2_ix = round(s2/timestep)\n",
    "    \n",
    "    pitch_samp = pitch[s1_ix:s2_ix]\n",
    "    time_samp = time[s1_ix:s2_ix]\n",
    "    \n",
    "    return pitch_samp, time_samp, label"
   ]
  },
  {
   "cell_type": "markdown",
   "id": "c03ac95f",
   "metadata": {},
   "source": [
    "#### Plot Time Series and Listen to Audio"
   ]
  },
  {
   "cell_type": "code",
   "execution_count": 22,
   "id": "6173b255",
   "metadata": {},
   "outputs": [
    {
     "data": {
      "text/plain": [
       "Text(0.5, 0, 'Time (s)')"
      ]
     },
     "execution_count": 22,
     "metadata": {},
     "output_type": "execute_result"
    },
    {
     "data": {
      "image/png": "[encoded data removed]",
      "text/plain": [
       "<Figure size 432x288 with 1 Axes>"
      ]
     },
     "metadata": {
      "needs_background": "light"
     },
     "output_type": "display_data"
    }
   ],
   "source": [
    "plt.plot(time_samp, pitch_samp)\n",
    "plt.title(f'{label}')\n",
    "plt.ylabel('Pitch (Hz)')\n",
    "plt.xlabel('Time (s)')"
   ]
  },
  {
   "cell_type": "code",
   "execution_count": 23,
   "id": "50d51a4d",
   "metadata": {},
   "outputs": [],
   "source": [
    "# play audio\n",
    "sd.play(audio_samp, sr)"
   ]
  },
  {
   "cell_type": "markdown",
   "id": "1b93e7a2",
   "metadata": {},
   "source": [
    "Is this pitch time series correct? How could we improve it? (e.g. Interpolate incorrectly annotated silence, smooth, trim leading and trailing silence, convert to cents?)"
   ]
  },
  {
   "cell_type": "markdown",
   "id": "0bc0ba09",
   "metadata": {},
   "source": [
    "## 3. Euclidean Distance"
   ]
  },
  {
   "cell_type": "markdown",
   "id": "a57be10b",
   "metadata": {},
   "source": [
    "Euclidean distance compares element i in time series 1 with element i in time series 2 for i in range(len(time series)) and sums."
   ]
  },
  {
   "cell_type": "code",
   "execution_count": 24,
   "id": "79b7eaee",
   "metadata": {},
   "outputs": [],
   "source": [
    "i1 = 125\n",
    "i2 = 120"
   ]
  },
  {
   "cell_type": "code",
   "execution_count": 25,
   "id": "a1f4562e",
   "metadata": {},
   "outputs": [],
   "source": [
    "row = annotations.iloc[i1]\n",
    "s1 = row.start\n",
    "s2 = row.end\n",
    "label = row.label\n",
    "\n",
    "s1_ix = round(s1/timestep)\n",
    "s2_ix = round(s2/timestep)\n",
    "\n",
    "pitch_samp = pitch[s1_ix:s2_ix]\n",
    "time_samp = time[s1_ix:s2_ix]"
   ]
  },
  {
   "cell_type": "code",
   "execution_count": 26,
   "id": "8cef54f3",
   "metadata": {},
   "outputs": [
    {
     "data": {
      "text/plain": [
       "index                      289\n",
       "level       underlying_sancara\n",
       "start                  457.789\n",
       "end                    459.774\n",
       "duration          00:00:01.985\n",
       "label                     grss\n",
       "Name: 125, dtype: object"
      ]
     },
     "execution_count": 26,
     "metadata": {},
     "output_type": "execute_result"
    }
   ],
   "source": [
    "row"
   ]
  },
  {
   "cell_type": "code",
   "execution_count": 27,
   "id": "4d12fa3b",
   "metadata": {},
   "outputs": [],
   "source": [
    "p1, t1, l1 = get_obs(i1, pitch, time, annotations, timestep)\n",
    "p2, t2, l2 = get_obs(i2, pitch, time, annotations, timestep)"
   ]
  },
  {
   "cell_type": "code",
   "execution_count": 28,
   "id": "d547d028",
   "metadata": {},
   "outputs": [
    {
     "data": {
      "text/plain": [
       "Text(0.5, 0, 'Time (s)')"
      ]
     },
     "execution_count": 28,
     "metadata": {},
     "output_type": "execute_result"
    },
    {
     "data": {
      "image/png": "[encoded data removed]",
      "text/plain": [
       "<Figure size 432x288 with 1 Axes>"
      ]
     },
     "metadata": {
      "needs_background": "light"
     },
     "output_type": "display_data"
    }
   ],
   "source": [
    "plt.plot(t1, p1)\n",
    "plt.title(f'{i1}. {l1}')\n",
    "plt.ylabel('Pitch (Hz)')\n",
    "plt.xlabel('Time (s)')"
   ]
  },
  {
   "cell_type": "code",
   "execution_count": 29,
   "id": "ee150718",
   "metadata": {},
   "outputs": [
    {
     "data": {
      "text/plain": [
       "Text(0.5, 0, 'Time (s)')"
      ]
     },
     "execution_count": 29,
     "metadata": {},
     "output_type": "execute_result"
    },
    {
     "data": {
      "image/png": "[encoded data removed]",
      "text/plain": [
       "<Figure size 432x288 with 1 Axes>"
      ]
     },
     "metadata": {
      "needs_background": "light"
     },
     "output_type": "display_data"
    }
   ],
   "source": [
    "plt.plot(t2, p2)\n",
    "plt.title(f'{i2}. {l2}')\n",
    "plt.ylabel('Pitch (Hz)')\n",
    "plt.xlabel('Time (s)')"
   ]
  },
  {
   "cell_type": "code",
   "execution_count": 30,
   "id": "4962411c",
   "metadata": {
    "scrolled": true
   },
   "outputs": [
    {
     "ename": "ValueError",
     "evalue": "operands could not be broadcast together with shapes (446,) (421,) ",
     "output_type": "error",
     "traceback": [
      "\u001b[0;31m---------------------------------------------------------------------------\u001b[0m",
      "\u001b[0;31mValueError\u001b[0m                                Traceback (most recent call last)",
      "\u001b[0;32m/var/folders/5s/lsn47s5j3h5fdhx56gqn2g300000gn/T/ipykernel_7020/2215419109.py\u001b[0m in \u001b[0;36m<module>\u001b[0;34m\u001b[0m\n\u001b[0;32m----> 1\u001b[0;31m \u001b[0mdistance\u001b[0m\u001b[0;34m.\u001b[0m\u001b[0meuclidean\u001b[0m\u001b[0;34m(\u001b[0m\u001b[0mp1\u001b[0m\u001b[0;34m,\u001b[0m \u001b[0mp2\u001b[0m\u001b[0;34m)\u001b[0m\u001b[0;34m\u001b[0m\u001b[0m\n\u001b[0m",
      "\u001b[0;32m~/.virtualenvs/cae/lib/python3.7/site-packages/scipy/spatial/distance.py\u001b[0m in \u001b[0;36meuclidean\u001b[0;34m(u, v, w)\u001b[0m\n\u001b[1;32m    595\u001b[0m \u001b[0;34m\u001b[0m\u001b[0m\n\u001b[1;32m    596\u001b[0m     \"\"\"\n\u001b[0;32m--> 597\u001b[0;31m     \u001b[0;32mreturn\u001b[0m \u001b[0mminkowski\u001b[0m\u001b[0;34m(\u001b[0m\u001b[0mu\u001b[0m\u001b[0;34m,\u001b[0m \u001b[0mv\u001b[0m\u001b[0;34m,\u001b[0m \u001b[0mp\u001b[0m\u001b[0;34m=\u001b[0m\u001b[0;36m2\u001b[0m\u001b[0;34m,\u001b[0m \u001b[0mw\u001b[0m\u001b[0;34m=\u001b[0m\u001b[0mw\u001b[0m\u001b[0;34m)\u001b[0m\u001b[0;34m\u001b[0m\u001b[0m\n\u001b[0m\u001b[1;32m    598\u001b[0m \u001b[0;34m\u001b[0m\u001b[0m\n\u001b[1;32m    599\u001b[0m \u001b[0;34m\u001b[0m\u001b[0m\n",
      "\u001b[0;32m~/.virtualenvs/cae/lib/python3.7/site-packages/scipy/spatial/distance.py\u001b[0m in \u001b[0;36mminkowski\u001b[0;34m(u, v, p, w)\u001b[0m\n\u001b[1;32m    486\u001b[0m     \u001b[0;32mif\u001b[0m \u001b[0mp\u001b[0m \u001b[0;34m<\u001b[0m \u001b[0;36m1\u001b[0m\u001b[0;34m:\u001b[0m\u001b[0;34m\u001b[0m\u001b[0m\n\u001b[1;32m    487\u001b[0m         \u001b[0;32mraise\u001b[0m \u001b[0mValueError\u001b[0m\u001b[0;34m(\u001b[0m\u001b[0;34m\"p must be at least 1\"\u001b[0m\u001b[0;34m)\u001b[0m\u001b[0;34m\u001b[0m\u001b[0m\n\u001b[0;32m--> 488\u001b[0;31m     \u001b[0mu_v\u001b[0m \u001b[0;34m=\u001b[0m \u001b[0mu\u001b[0m \u001b[0;34m-\u001b[0m \u001b[0mv\u001b[0m\u001b[0;34m\u001b[0m\u001b[0m\n\u001b[0m\u001b[1;32m    489\u001b[0m     \u001b[0;32mif\u001b[0m \u001b[0mw\u001b[0m \u001b[0;32mis\u001b[0m \u001b[0;32mnot\u001b[0m \u001b[0;32mNone\u001b[0m\u001b[0;34m:\u001b[0m\u001b[0;34m\u001b[0m\u001b[0m\n\u001b[1;32m    490\u001b[0m         \u001b[0mw\u001b[0m \u001b[0;34m=\u001b[0m \u001b[0m_validate_weights\u001b[0m\u001b[0;34m(\u001b[0m\u001b[0mw\u001b[0m\u001b[0;34m)\u001b[0m\u001b[0;34m\u001b[0m\u001b[0m\n",
      "\u001b[0;31mValueError\u001b[0m: operands could not be broadcast together with shapes (446,) (421,) "
     ]
    }
   ],
   "source": [
    "distance.euclidean(p1, p2)"
   ]
  },
  {
   "cell_type": "code",
   "execution_count": 31,
   "id": "7ca4b9c3",
   "metadata": {},
   "outputs": [
    {
     "data": {
      "text/plain": [
       "0.0"
      ]
     },
     "execution_count": 31,
     "metadata": {},
     "output_type": "execute_result"
    }
   ],
   "source": [
    "distance.euclidean(p1, p1)"
   ]
  },
  {
   "cell_type": "markdown",
   "id": "ddd3ba2f",
   "metadata": {},
   "source": [
    "How could we compare time series of different lengths? Hint: resample"
   ]
  },
  {
   "cell_type": "markdown",
   "id": "53462436",
   "metadata": {},
   "source": [
    "## 4. Dynamic Time Warping"
   ]
  },
  {
   "cell_type": "markdown",
   "id": "6a73c456",
   "metadata": {},
   "source": [
    "Dynamic time warping allows us to handle time series of different lengths."
   ]
  },
  {
   "cell_type": "code",
   "execution_count": 47,
   "id": "4944203c",
   "metadata": {},
   "outputs": [],
   "source": [
    "dist, path = fastdtw(p1, p2)\n",
    "dist_norm = dist/len(path)"
   ]
  },
  {
   "cell_type": "markdown",
   "id": "a7c6dbaa",
   "metadata": {},
   "source": [
    "Plot warping path"
   ]
  },
  {
   "cell_type": "code",
   "execution_count": 48,
   "id": "45af3130",
   "metadata": {},
   "outputs": [
    {
     "data": {
      "text/plain": [
       "Text(0, 0.5, 'pattern 1 element')"
      ]
     },
     "execution_count": 48,
     "metadata": {},
     "output_type": "execute_result"
    },
    {
     "data": {
      "image/png": "[encoded data removed]",
      "text/plain": [
       "<Figure size 432x288 with 1 Axes>"
      ]
     },
     "metadata": {
      "needs_background": "light"
     },
     "output_type": "display_data"
    }
   ],
   "source": [
    "plt.scatter([x[0] for x in path], [x[1] for x in path], s=0.5)\n",
    "plt.xlabel('pattern 2 element')\n",
    "plt.ylabel('pattern 1 element')"
   ]
  },
  {
   "cell_type": "markdown",
   "id": "68fdef56",
   "metadata": {},
   "source": [
    "#### Compare to all"
   ]
  },
  {
   "cell_type": "markdown",
   "id": "ce77f400",
   "metadata": {},
   "source": [
    "Lets compare pattenr p1 to all other patterns in the dataset. Which are the closest? Do they have the same pattern label?"
   ]
  },
  {
   "cell_type": "code",
   "execution_count": 35,
   "id": "8df95666",
   "metadata": {},
   "outputs": [],
   "source": [
    "# IMPORTANT: this is used to compare one annotation with all and compute similarity between the using DTW\n",
    "\n",
    "all_dist = []\n",
    "for i in annotations.index:\n",
    "    # chop the time series - get sample\n",
    "    p2, t2, l2 = get_obs(i, pitch, time, annotations, timestep) # returns pitch, time, label\n",
    "    dist, path = fastdtw(p1, p2)\n",
    "    dist_norm = dist/len(path)\n",
    "    all_dist.append((i,dist_norm,l2))"
   ]
  },
  {
   "cell_type": "code",
   "execution_count": 36,
   "id": "64aeb811",
   "metadata": {},
   "outputs": [
    {
     "data": {
      "text/plain": [
       "'grss'"
      ]
     },
     "execution_count": 36,
     "metadata": {},
     "output_type": "execute_result"
    }
   ],
   "source": [
    "l1"
   ]
  },
  {
   "cell_type": "code",
   "execution_count": 37,
   "id": "55ec8386",
   "metadata": {},
   "outputs": [
    {
     "data": {
      "text/plain": [
       "[(125, 0.0, 'grss'),\n",
       " (61, 5.874175824617085, 'grss'),\n",
       " (56, 7.0353935530786655, 'grss'),\n",
       " (120, 9.074164868126903, 'grss'),\n",
       " (46, 16.59117587271579, 'nnsns'),\n",
       " (98, 19.540392293226, 'nns'),\n",
       " (51, 21.044295253665496, 'grss'),\n",
       " (100, 21.41372569421372, 'nnsns'),\n",
       " (39, 21.9077400783588, 'nns'),\n",
       " (113, 22.75731295387217, 'nns'),\n",
       " (115, 25.165897598025925, 'grss'),\n",
       " (37, 25.793239146396704, 'nnsns'),\n",
       " (16, 28.31040620803833, 'mnnssss'),\n",
       " (103, 28.48221363294993, 'nns'),\n",
       " (110, 29.740939977047216, 'nnsns'),\n",
       " (64, 30.050147362834405, 'ssnsrsndm'),\n",
       " (105, 33.68366438415708, 'nnsns'),\n",
       " (68, 38.07238459123884, 'nrsnsndm'),\n",
       " (50, 38.32062890863574, 'sssndmnnsns'),\n",
       " (44, 46.09801498959069, 'nns'),\n",
       " (67, 46.198306067872444, 'mnnssss'),\n",
       " (36, 46.25628819687231, 'sssndm'),\n",
       " (133, 46.29308588616202, 'gmn'),\n",
       " (114, 46.915943163013026, 'sssndmnnsns'),\n",
       " (137, 47.214068172812574, 'smmggmggrs'),\n",
       " (108, 50.44104170840011, 'nns'),\n",
       " (128, 50.4912232334174, 'ssnsrsndm'),\n",
       " (130, 51.1806125220943, 'mnnssss'),\n",
       " (59, 51.37019484063156, 'ssnsrsndm'),\n",
       " (54, 52.306796810918335, 'ssnsrsndm'),\n",
       " (32, 52.92988214170299, 'snndpdnndm'),\n",
       " (41, 53.21899155976157, 'nnsns'),\n",
       " (7, 53.79441833496094, 'nnsndm'),\n",
       " (14, 54.57693528451061, 'smmggmggrs'),\n",
       " (26, 55.00082506189024, 'nrsnsndm'),\n",
       " (118, 56.894141253303076, 'ssnsrsndm'),\n",
       " (123, 57.89952122770398, 'ssnsrsndm'),\n",
       " (42, 58.44540970198071, 'snnnn'),\n",
       " (109, 58.90274592219172, 'sssndm'),\n",
       " (45, 59.26828561628009, 'sssndm'),\n",
       " (20, 59.316131911911334, 'nnsndm'),\n",
       " (121, 59.68664685637978, 'snrsnndm'),\n",
       " (127, 61.12843922645815, 'gmn'),\n",
       " (106, 61.29696489716956, 'ssnn'),\n",
       " (47, 61.93103755339411, 'snnnn'),\n",
       " (11, 61.94741804047493, 'nnsndm'),\n",
       " (95, 62.02269327990737, 'mmgmpmggrs'),\n",
       " (53, 62.8491339077607, 'gmn'),\n",
       " (131, 63.00981965576862, 'nrsnsndm'),\n",
       " (117, 63.523621174624296, 'gmn'),\n",
       " (58, 64.06592453582377, 'gmn'),\n",
       " (126, 64.46932274187115, 'snrsnndm'),\n",
       " (107, 64.57601600646973, 'nnnsndmgm'),\n",
       " (17, 64.93649142923964, 'nrsnsndm'),\n",
       " (77, 64.96247599923481, 'mgmpmggrs'),\n",
       " (60, 65.08668553250507, 'mgmpmggrs'),\n",
       " (19, 65.1388460652212, 'gmn'),\n",
       " (89, 65.49694371197896, 'mgmpmggrs'),\n",
       " (18, 69.72084489570396, 'gmpmgrgm'),\n",
       " (34, 70.72942665750666, 'nnnsndmgm'),\n",
       " (70, 71.31818015259226, 'gmn'),\n",
       " (91, 72.48007103537216, 'mnnnsndm'),\n",
       " (111, 72.54649525880814, 'ssnn'),\n",
       " (104, 72.82393399618975, 'sssndm'),\n",
       " (99, 73.52881525213068, 'sssndm'),\n",
       " (29, 73.97871062839913, 'nnsndm'),\n",
       " (124, 74.05693641491455, 'mgmpmggrs'),\n",
       " (94, 75.37935065580939, 'mnnnsndm'),\n",
       " (116, 75.73214721679688, 'snrsnndm'),\n",
       " (122, 76.65513855981045, 'gmn'),\n",
       " (132, 76.87629018545451, 'gmpmgrgm'),\n",
       " (96, 79.81691734054769, 'ssnn'),\n",
       " (30, 80.45462251072608, 'mmgmpgpmgrs'),\n",
       " (8, 81.28262666796074, 'mmgmpgpmgrs'),\n",
       " (135, 81.4849646643556, 'mmgmpgpmgrs'),\n",
       " (10, 83.71634881121304, 'smmggmggrs'),\n",
       " (136, 84.61998044794257, 'sssnnpn'),\n",
       " (49, 87.55751068622921, 'nns'),\n",
       " (134, 87.87809889283899, 'nrsssndm'),\n",
       " (57, 88.73081835657621, 'snrsnndm'),\n",
       " (22, 88.915270849182, 'sssnnpn'),\n",
       " (31, 89.96877765388382, 'sssnnpn'),\n",
       " (112, 90.35996481730588, 'nnnsndmgm'),\n",
       " (27, 91.61079719517537, 'gmpmgrgm'),\n",
       " (81, 91.68193518187118, 'mgmpmggrs'),\n",
       " (25, 92.49650898464068, 'mnnssss'),\n",
       " (48, 93.6441864142438, 'nnnsndmgm'),\n",
       " (55, 94.24886008170138, 'mgmpmggrs'),\n",
       " (76, 95.29978504099047, 'ssgrg'),\n",
       " (88, 98.34836971671754, 'ssgrg'),\n",
       " (72, 99.82543189658962, 'mmgmpgpmgrs'),\n",
       " (102, 100.52805027285756, 'nnnsndmgm'),\n",
       " (43, 101.23651473119916, 'nnnsndmgm'),\n",
       " (40, 101.89503987630208, 'sssndm'),\n",
       " (24, 106.74320109617045, 'sgrgmmgm'),\n",
       " (33, 109.45643375344473, 'mgmpmmgrg'),\n",
       " (84, 109.68834631873996, 'ssgrg'),\n",
       " (101, 110.1552934629963, 'ssnn'),\n",
       " (62, 113.25313859331871, 'snrsnndm'),\n",
       " (21, 116.03451850747993, 'mmgmpgpmgrs'),\n",
       " (69, 116.36360215832315, 'gmpmgrgm'),\n",
       " (83, 116.39268742436948, 'sssnnpn'),\n",
       " (4, 117.53064588389802, 'mmgmpgpmgrs'),\n",
       " (15, 119.97666963816418, 'sgrgmmgm'),\n",
       " (71, 121.86519267882183, 'nnsndm'),\n",
       " (12, 121.8676179645931, 'mmgmpgpmgrs'),\n",
       " (38, 121.98232061051603, 'nnnsndmgm'),\n",
       " (2, 124.080887597302, 'sssnnpn'),\n",
       " (63, 126.4608625989732, 'gmn'),\n",
       " (85, 126.50634074093674, 'mgmpmggrs'),\n",
       " (28, 129.9880805644254, 'gmn'),\n",
       " (1, 131.78522452207253, 'mmgmpgpmgrs'),\n",
       " (74, 136.30174721119016, 'pmgrs'),\n",
       " (82, 136.56041144979798, 'pmgrs'),\n",
       " (35, 138.48850820187053, 'nns'),\n",
       " (86, 139.4922427189203, 'pmgrs'),\n",
       " (66, 140.26628784179687, 'sgrgmmgm'),\n",
       " (78, 142.64306725988854, 'pmgrs'),\n",
       " (129, 143.17166385256786, 'mgmpmggrs'),\n",
       " (80, 149.88319267470018, 'ssgrg'),\n",
       " (65, 151.12107722716925, 'mgmpmggrs'),\n",
       " (92, 152.82081128325058, 'mmgmpmggrs'),\n",
       " (93, 156.49205156053816, 'mmmmmpmgrgm'),\n",
       " (79, 162.04316477244043, 'sssnnpn'),\n",
       " (87, 167.529529021718, 'sssnnpn'),\n",
       " (97, 171.1913990045363, 'nnnsndmgm'),\n",
       " (52, 172.5800837918075, 'snrsnndm'),\n",
       " (73, 177.68238094254582, 'sssnnpn'),\n",
       " (5, 180.6230279523774, 'sssnnpn'),\n",
       " (9, 183.97617940946125, 'sssnnpn'),\n",
       " (23, 186.25185032774692, 'smmggmggrs'),\n",
       " (119, 189.12401909078264, 'mgmpmggrs'),\n",
       " (6, 191.58929443359375, 'smmggmggrs'),\n",
       " (13, 199.6085237811501, 'sssnnpn'),\n",
       " (90, 210.22690381201627, 'mmmmmpmgrgm'),\n",
       " (3, 211.23569008905628, 'smmggmggrs'),\n",
       " (75, 213.50733011942975, 'sssnnpn'),\n",
       " (0, 242.77077992388055, 'mgmpmmgrg')]"
      ]
     },
     "execution_count": 37,
     "metadata": {},
     "output_type": "execute_result"
    }
   ],
   "source": [
    "sorted(all_dist, key=lambda y: y[1])"
   ]
  },
  {
   "cell_type": "markdown",
   "id": "b4bb136a",
   "metadata": {},
   "source": [
    "## 5. Matrix Profile"
   ]
  },
  {
   "cell_type": "markdown",
   "id": "58f7d68c",
   "metadata": {},
   "source": [
    "The matrix profile allows us to compute distances across the pitch track as a whole. A full tutorial can be found here - https://stumpy.readthedocs.io/en/latest/Tutorial_STUMPY_Basics.html"
   ]
  },
  {
   "cell_type": "markdown",
   "id": "0cd6dd02",
   "metadata": {},
   "source": [
    "#### MASS query algorithm"
   ]
  },
  {
   "cell_type": "markdown",
   "id": "127f02b0",
   "metadata": {},
   "source": [
    "The mass algorithm allows us to compare a query pattern to the entire pitch track"
   ]
  },
  {
   "cell_type": "code",
   "execution_count": 116,
   "id": "916ef25b",
   "metadata": {
    "scrolled": true
   },
   "outputs": [],
   "source": [
    "distance_profile = stumpy.mass(p1, pitch, normalize=False)"
   ]
  },
  {
   "cell_type": "code",
   "execution_count": 61,
   "id": "2451797f",
   "metadata": {},
   "outputs": [
    {
     "data": {
      "text/plain": [
       "[<matplotlib.lines.Line2D at 0x7fe2496e4160>]"
      ]
     },
     "execution_count": 61,
     "metadata": {},
     "output_type": "execute_result"
    },
    {
     "data": {
      "image/png": "[encoded data removed]",
      "text/plain": [
       "<Figure size 432x288 with 1 Axes>"
      ]
     },
     "metadata": {
      "needs_background": "light"
     },
     "output_type": "display_data"
    }
   ],
   "source": [
    "plt.plot(distance_profile[:10000])"
   ]
  },
  {
   "cell_type": "markdown",
   "id": "0dbe850d",
   "metadata": {},
   "source": [
    "Minimums in this distance profile correspond to regions that are most similar to the query pattern"
   ]
  },
  {
   "cell_type": "code",
   "execution_count": 62,
   "id": "b9b8ffab",
   "metadata": {},
   "outputs": [
    {
     "data": {
      "text/plain": [
       "103003"
      ]
     },
     "execution_count": 62,
     "metadata": {},
     "output_type": "execute_result"
    }
   ],
   "source": [
    "distance_profile.argmin()"
   ]
  },
  {
   "cell_type": "markdown",
   "id": "f76e3864",
   "metadata": {},
   "source": [
    "#### Full Matrix Profile"
   ]
  },
  {
   "cell_type": "markdown",
   "id": "58c25f32",
   "metadata": {},
   "source": [
    "The stump algorithm computes the distance between each pairwise combination of regions in pitch. A full overview of the matrix profile is available here - https://www.cs.ucr.edu/~eamonn/Matrix_Profile_Tutorial_Part1.pdf.\n",
    "\n",
    "\"The matrix profile at the ith location records the distance of the subsequence in T, at the ith location, to its nearest neighbor under z-normalized Euclidean Distance\""
   ]
  },
  {
   "cell_type": "code",
   "execution_count": 114,
   "id": "f8f3171f",
   "metadata": {},
   "outputs": [],
   "source": [
    "l = 800 # Which length pattern are we looking for"
   ]
  },
  {
   "cell_type": "code",
   "execution_count": 115,
   "id": "5e257d94",
   "metadata": {},
   "outputs": [],
   "source": [
    "mp = stumpy.stump(pitch, l, normalize=False)"
   ]
  },
  {
   "cell_type": "code",
   "execution_count": 105,
   "id": "f82dc3c9",
   "metadata": {},
   "outputs": [],
   "source": [
    "motif_idx = np.argsort(mp[:, 0])[20000]"
   ]
  },
  {
   "cell_type": "code",
   "execution_count": 106,
   "id": "51a67f68",
   "metadata": {},
   "outputs": [
    {
     "name": "stdout",
     "output_type": "stream",
     "text": [
      "The motif is located at index 20142\n"
     ]
    }
   ],
   "source": [
    "print(f\"The motif is located at index {motif_idx}\")"
   ]
  },
  {
   "cell_type": "code",
   "execution_count": 107,
   "id": "cd1b7947",
   "metadata": {},
   "outputs": [],
   "source": [
    "nearest_neighbor_idx = mp[motif_idx, 1]"
   ]
  },
  {
   "cell_type": "code",
   "execution_count": 108,
   "id": "8fa4f3d2",
   "metadata": {},
   "outputs": [
    {
     "data": {
      "text/plain": [
       "[<matplotlib.lines.Line2D at 0x7fe250b38400>]"
      ]
     },
     "execution_count": 108,
     "metadata": {},
     "output_type": "execute_result"
    },
    {
     "data": {
      "image/png": "[encoded data removed]",
      "text/plain": [
       "<Figure size 432x288 with 1 Axes>"
      ]
     },
     "metadata": {
      "needs_background": "light"
     },
     "output_type": "display_data"
    }
   ],
   "source": [
    "plt.plot(pitch[motif_idx:motif_idx+l])"
   ]
  },
  {
   "cell_type": "code",
   "execution_count": 109,
   "id": "31a53879",
   "metadata": {},
   "outputs": [
    {
     "data": {
      "text/plain": [
       "[<matplotlib.lines.Line2D at 0x7fe250c22710>]"
      ]
     },
     "execution_count": 109,
     "metadata": {},
     "output_type": "execute_result"
    },
    {
     "data": {
      "image/png": "[encoded data removed]",
      "text/plain": [
       "<Figure size 432x288 with 1 Axes>"
      ]
     },
     "metadata": {
      "needs_background": "light"
     },
     "output_type": "display_data"
    }
   ],
   "source": [
    "plt.plot(pitch[nearest_neighbor_idx:nearest_neighbor_idx+l])"
   ]
  }
 ],
 "metadata": {
  "kernelspec": {
   "display_name": "Python 3 (ipykernel)",
   "language": "python",
   "name": "python3"
  },
  "language_info": {
   "codemirror_mode": {
    "name": "ipython",
    "version": 3
   },
   "file_extension": ".py",
   "mimetype": "text/x-python",
   "name": "python",
   "nbconvert_exporter": "python",
   "pygments_lexer": "ipython3",
   "version": "3.9.12"
  }
 },
 "nbformat": 4,
 "nbformat_minor": 5
}
